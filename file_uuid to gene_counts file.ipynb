{
 "cells": [
  {
   "cell_type": "code",
   "execution_count": null,
   "metadata": {},
   "outputs": [],
   "source": [
    "import json\n",
    "import os\n",
    "import requests\n",
    "import pandas as pd"
   ]
  },
  {
   "cell_type": "code",
   "execution_count": null,
   "metadata": {},
   "outputs": [],
   "source": [
    "# Change the input_file_name if needed\n",
    "input_file_name=\"Initial_TNBC_FileUUID_Subtype.csv\"\n",
    "\n",
    "df = pd.read_csv(input_file_name)\n",
    "\n",
    "file_uuids = df['File_UUID'].to_list()\n",
    "subtype = df['Subtype'].to_list()"
   ]
  },
  {
   "cell_type": "code",
   "execution_count": null,
   "metadata": {},
   "outputs": [],
   "source": [
    "def download_file(file_uuid, output_file_path):\n",
    "    data_endpt = f\"https://api.gdc.cancer.gov/data/{file_uuid}\"\n",
    "\n",
    "    try:\n",
    "        response = requests.get(data_endpt, headers = {\"Content-Type\": \"application/json\"})\n",
    "\n",
    "        with open(output_file_path, \"wb\") as output_file:\n",
    "            output_file.write(response.content)\n",
    "\n",
    "        print(f\"File successfully downloaded.\")\n",
    "\n",
    "    \n",
    "    except:\n",
    "        print(f\"Error!!!\")\n",
    "        return"
   ]
  },
  {
   "cell_type": "code",
   "execution_count": null,
   "metadata": {},
   "outputs": [],
   "source": [
    "\n",
    "for i in subtype:\n",
    "    if not os.path.exists(f\"./{i}/\"):\n",
    "        os.makedirs(f\"./{i}/\")\n",
    "\n",
    "\n",
    "for i in range(len(file_uuids)):\n",
    "    print(f\"\\nFetching data for file UUID: {file_uuids[i]}; Subtype: {subtype[i]}\")\n",
    "    \n",
    "    download_file(file_uuids[i], f\"./{subtype[i]}/{file_uuids[i]}.tsv\")"
   ]
  }
 ],
 "metadata": {
  "kernelspec": {
   "display_name": "Python 3",
   "language": "python",
   "name": "python3"
  },
  "language_info": {
   "codemirror_mode": {
    "name": "ipython",
    "version": 3
   },
   "file_extension": ".py",
   "mimetype": "text/x-python",
   "name": "python",
   "nbconvert_exporter": "python",
   "pygments_lexer": "ipython3",
   "version": "3.12.3"
  }
 },
 "nbformat": 4,
 "nbformat_minor": 2
}
